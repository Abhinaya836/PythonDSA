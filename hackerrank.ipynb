{
 "cells": [
  {
   "cell_type": "code",
   "execution_count": 2,
   "id": "80ba1bad",
   "metadata": {},
   "outputs": [
    {
     "name": "stdout",
     "output_type": "stream",
     "text": [
      "12\n"
     ]
    }
   ],
   "source": [
    "print(hash(12))"
   ]
  },
  {
   "cell_type": "code",
   "execution_count": 1,
   "id": "330e6440",
   "metadata": {},
   "outputs": [
    {
     "name": "stdout",
     "output_type": "stream",
     "text": [
      "werwerewr\n",
      "w\n",
      "e\n",
      "r\n",
      "w\n",
      "e\n",
      "r\n",
      "e\n",
      "w\n",
      "r\n",
      "werwerewr\n"
     ]
    }
   ],
   "source": [
    "def StringChallenge(strParam):\n",
    "  for char in strParam:\n",
    "    print(char)\n",
    "    \n",
    "\n",
    "  # code goes here\n",
    "  return strParam\n",
    "\n",
    "# keep this function call here \n",
    "print(StringChallenge(input()))"
   ]
  },
  {
   "cell_type": "code",
   "execution_count": null,
   "id": "2e01944c",
   "metadata": {},
   "outputs": [],
   "source": []
  }
 ],
 "metadata": {
  "kernelspec": {
   "display_name": "Python 3 (ipykernel)",
   "language": "python",
   "name": "python3"
  },
  "language_info": {
   "codemirror_mode": {
    "name": "ipython",
    "version": 3
   },
   "file_extension": ".py",
   "mimetype": "text/x-python",
   "name": "python",
   "nbconvert_exporter": "python",
   "pygments_lexer": "ipython3",
   "version": "3.11.4"
  }
 },
 "nbformat": 4,
 "nbformat_minor": 5
}
